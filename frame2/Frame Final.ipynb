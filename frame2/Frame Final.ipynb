{
 "cells": [
  {
   "cell_type": "code",
   "execution_count": 1,
   "metadata": {},
   "outputs": [
    {
     "name": "stdout",
     "output_type": "stream",
     "text": [
      "Requirement already satisfied: pillow in c:\\a\\lib\\site-packages (8.0.1)\n"
     ]
    }
   ],
   "source": [
    "!pip install pillow\n",
    "from PIL import Image,ImageDraw,ImageFont,ImageOps\n"
   ]
  },
  {
   "cell_type": "code",
   "execution_count": 2,
   "metadata": {},
   "outputs": [],
   "source": [
    "import pandas as pd"
   ]
  },
  {
   "cell_type": "code",
   "execution_count": 3,
   "metadata": {},
   "outputs": [],
   "source": [
    "df=pd.read_csv(\"frameCSV.csv\")"
   ]
  },
  {
   "cell_type": "code",
   "execution_count": 4,
   "metadata": {},
   "outputs": [
    {
     "data": {
      "text/html": [
       "<div>\n",
       "<style scoped>\n",
       "    .dataframe tbody tr th:only-of-type {\n",
       "        vertical-align: middle;\n",
       "    }\n",
       "\n",
       "    .dataframe tbody tr th {\n",
       "        vertical-align: top;\n",
       "    }\n",
       "\n",
       "    .dataframe thead th {\n",
       "        text-align: right;\n",
       "    }\n",
       "</style>\n",
       "<table border=\"1\" class=\"dataframe\">\n",
       "  <thead>\n",
       "    <tr style=\"text-align: right;\">\n",
       "      <th></th>\n",
       "      <th>transaction id check done??</th>\n",
       "      <th>Name</th>\n",
       "      <th>Student ID</th>\n",
       "      <th>Upload Your decent Photo</th>\n",
       "      <th>Unnamed: 4</th>\n",
       "      <th>Unnamed: 5</th>\n",
       "      <th>id</th>\n",
       "    </tr>\n",
       "  </thead>\n",
       "  <tbody>\n",
       "    <tr>\n",
       "      <th>0</th>\n",
       "      <td>True</td>\n",
       "      <td>Shihab uddin</td>\n",
       "      <td>1909029</td>\n",
       "      <td>https://drive.google.com/open?id=13O6WlHllfpaW...</td>\n",
       "      <td>NaN</td>\n",
       "      <td>NaN</td>\n",
       "      <td>1</td>\n",
       "    </tr>\n",
       "    <tr>\n",
       "      <th>1</th>\n",
       "      <td>True</td>\n",
       "      <td>Md Sadik Imtiaz</td>\n",
       "      <td>1902076</td>\n",
       "      <td>https://drive.google.com/open?id=1yxmIQxCbWY0o...</td>\n",
       "      <td>NaN</td>\n",
       "      <td>NaN</td>\n",
       "      <td>2</td>\n",
       "    </tr>\n",
       "    <tr>\n",
       "      <th>2</th>\n",
       "      <td>True</td>\n",
       "      <td>Md Shahadat Hossain</td>\n",
       "      <td>1912012</td>\n",
       "      <td>https://drive.google.com/open?id=1KpXadRzGAMy7...</td>\n",
       "      <td>NaN</td>\n",
       "      <td>NaN</td>\n",
       "      <td>3</td>\n",
       "    </tr>\n",
       "    <tr>\n",
       "      <th>3</th>\n",
       "      <td>True</td>\n",
       "      <td>Estiak Ahmmed Fahim</td>\n",
       "      <td>1903174</td>\n",
       "      <td>https://drive.google.com/open?id=1TodWMlexruOj...</td>\n",
       "      <td>NaN</td>\n",
       "      <td>NaN</td>\n",
       "      <td>4</td>\n",
       "    </tr>\n",
       "  </tbody>\n",
       "</table>\n",
       "</div>"
      ],
      "text/plain": [
       "   transaction id check done??                 Name  Student ID  \\\n",
       "0                         True         Shihab uddin     1909029   \n",
       "1                         True     Md Sadik Imtiaz      1902076   \n",
       "2                         True  Md Shahadat Hossain     1912012   \n",
       "3                         True  Estiak Ahmmed Fahim     1903174   \n",
       "\n",
       "                            Upload Your decent Photo  Unnamed: 4  Unnamed: 5  \\\n",
       "0  https://drive.google.com/open?id=13O6WlHllfpaW...         NaN         NaN   \n",
       "1  https://drive.google.com/open?id=1yxmIQxCbWY0o...         NaN         NaN   \n",
       "2  https://drive.google.com/open?id=1KpXadRzGAMy7...         NaN         NaN   \n",
       "3  https://drive.google.com/open?id=1TodWMlexruOj...         NaN         NaN   \n",
       "\n",
       "   id  \n",
       "0   1  \n",
       "1   2  \n",
       "2   3  \n",
       "3   4  "
      ]
     },
     "execution_count": 4,
     "metadata": {},
     "output_type": "execute_result"
    }
   ],
   "source": [
    "df"
   ]
  },
  {
   "cell_type": "code",
   "execution_count": 5,
   "metadata": {},
   "outputs": [
    {
     "data": {
      "text/plain": [
       "RangeIndex(start=0, stop=4, step=1)"
      ]
     },
     "execution_count": 5,
     "metadata": {},
     "output_type": "execute_result"
    }
   ],
   "source": [
    "df.index"
   ]
  },
  {
   "cell_type": "code",
   "execution_count": 6,
   "metadata": {},
   "outputs": [
    {
     "name": "stderr",
     "output_type": "stream",
     "text": [
      "C:\\a\\lib\\site-packages\\pandas\\core\\frame.py:1485: FutureWarning: Using short name for 'orient' is deprecated. Only the options: ('dict', list, 'series', 'split', 'records', 'index') will be used in a future version. Use one of the above to silence this warning.\n",
      "  warnings.warn(\n"
     ]
    }
   ],
   "source": [
    "records=df.to_dict(orient='record')"
   ]
  },
  {
   "cell_type": "code",
   "execution_count": 7,
   "metadata": {},
   "outputs": [],
   "source": [
    "def generate_frame(data):\n",
    "    im1=Image.open(f\"photos/{data['id']}.jpg\").resize((1170,1175),Image.ANTIALIAS)\n",
    "    im2=Image.open(\"template.png\")\n",
    "    mask = Image.new(\"L\", im1.size, 0)\n",
    "    draw = ImageDraw.Draw(mask)\n",
    "\n",
    "    draw.ellipse((0,0)+ im1.size, fill=255,outline =\"white\")\n",
    "    im = ImageOps.fit(im1, mask.size, centering=(0.4,0.4))\n",
    "    mask = mask.resize(im.size, Image.ANTIALIAS)\n",
    "    im.putalpha(mask)\n",
    "\n",
    "    im2.paste(im,(720,120),im)\n",
    "    font=ImageFont.truetype(\"font/Acme-Regular.ttf\",size=120)\n",
    "    image_editable = ImageDraw.Draw(im2)\n",
    "    image_editable.text((120,1570), data['Name'],\n",
    "                         font=font,fill='white')\n",
    "    image_editable.text((120, 1688), str(data['Student ID']),  font=font,fill='white')\n",
    "    return im2\n"
   ]
  },
  {
   "cell_type": "code",
   "execution_count": 8,
   "metadata": {},
   "outputs": [],
   "source": [
    "frame=generate_frame(records[3])"
   ]
  },
  {
   "cell_type": "code",
   "execution_count": 9,
   "metadata": {},
   "outputs": [],
   "source": [
    "for record in records:\n",
    "    frame=generate_frame(record)\n",
    "    frame.save(f\"frame/{record['Student ID']}.png\")\n",
    "    "
   ]
  },
  {
   "cell_type": "code",
   "execution_count": null,
   "metadata": {},
   "outputs": [],
   "source": []
  },
  {
   "cell_type": "code",
   "execution_count": null,
   "metadata": {},
   "outputs": [],
   "source": []
  }
 ],
 "metadata": {
  "kernelspec": {
   "display_name": "Python 3",
   "language": "python",
   "name": "python3"
  },
  "language_info": {
   "codemirror_mode": {
    "name": "ipython",
    "version": 3
   },
   "file_extension": ".py",
   "mimetype": "text/x-python",
   "name": "python",
   "nbconvert_exporter": "python",
   "pygments_lexer": "ipython3",
   "version": "3.8.5"
  }
 },
 "nbformat": 4,
 "nbformat_minor": 4
}
